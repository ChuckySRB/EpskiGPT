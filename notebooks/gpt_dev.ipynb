{
 "cells": [
  {
   "cell_type": "code",
   "execution_count": 29,
   "metadata": {},
   "outputs": [],
   "source": [
    "import torch\n",
    "import torch.nn as nn\n",
    "import torch.nn.functional as F\n",
    "import torch.optim as optim\n",
    "\n"
   ]
  },
  {
   "cell_type": "code",
   "execution_count": 4,
   "metadata": {},
   "outputs": [],
   "source": [
    "# DEFINISI GLOBALNE KONSTANTE\n",
    "\n",
    "INPUT_FILE = '../data/narodne_pesme.txt'\n",
    "\n"
   ]
  },
  {
   "cell_type": "code",
   "execution_count": null,
   "metadata": {},
   "outputs": [
    {
     "name": "stdout",
     "output_type": "stream",
     "text": [
      "Првих 100 слова: \n",
      "\n",
      "\n",
      "Кад се жени српски цар Стјепане,\n",
      "надалеко запроси ђевојку,\n",
      "у Леђану, граду латинскоме,\n",
      "у латинско\n",
      "\n",
      "Дужина целог текста: 475110\n",
      "\n",
      "Број слова: 83\n",
      "\n",
      "Вокабулар: \n",
      " !'(),-.3:;?âêô̓ЂЈЉЊЋЏАБВГДЕЖЗИКЛМНОПРСТУФХЦЧШабвгдежзиклмнопрстуфхцчшђјљњћџ–—’“”„\n",
      "\n"
     ]
    }
   ],
   "source": [
    "# FORMATIRAJ PODATKE\n",
    "\n",
    "# Otvori pesme\n",
    "with open(INPUT_FILE, 'r', encoding='utf-8') as file:\n",
    "    pesme = file.read()\n",
    "# Formatiraj podatke\n",
    "slova = sorted(list(set(pesme)))\n",
    "\n",
    "# Statistika\n",
    "print(f\"Првих 100 слова: {pesme[:100]}\\n\")\n",
    "print(f\"Дужина целог текста: {len(pesme)}\\n\")\n",
    "print(f\"Број слова: {len(slova)}\\n\")\n",
    "print(f\"Вокабулар: {''.join(slova)}\\n\")\n"
   ]
  },
  {
   "cell_type": "code",
   "execution_count": 26,
   "metadata": {},
   "outputs": [
    {
     "name": "stdout",
     "output_type": "stream",
     "text": [
      "Testni string: Пола пије, пола Шарцу даје\n",
      "Encoded: [37, 60, 57, 47, 1, 61, 55, 72, 52, 6, 1, 61, 60, 57, 47, 1, 46, 47, 62, 68, 65, 1, 51, 47, 72, 52]\n",
      "Decoded: Пола пије, пола Шарцу даје\n"
     ]
    }
   ],
   "source": [
    "# TOkenizacija\n",
    "\n",
    "stoi = {slovo: i for i, slovo in enumerate(slova)}\n",
    "itos = {i: slovo for i, slovo in enumerate(slova)}\n",
    "vocabulary_size = len(stoi.keys())\n",
    "\n",
    "# Encoding / Decoding\n",
    "\n",
    "encode = lambda s: [stoi[slovo] for slovo in s]\n",
    "decode = lambda e: ''.join([itos[i] for i in e])\n",
    "\n",
    "# Testiranje\n",
    "test_string = \"Пола пије, пола Шарцу даје\"\n",
    "encoded = encode(test_string)\n",
    "decoded = decode(encoded)\n",
    "print(f\"Testni string: {test_string}\")\n",
    "print(f\"Encoded: {encoded}\")\n",
    "print(f\"Decoded: {decoded}\")\n"
   ]
  },
  {
   "cell_type": "code",
   "execution_count": 27,
   "metadata": {},
   "outputs": [
    {
     "name": "stdout",
     "output_type": "stream",
     "text": [
      "torch.Size([475110])\n"
     ]
    }
   ],
   "source": [
    "data = torch.tensor(encode(pesme), dtype=torch.long)\n",
    "print(data.shape)\n"
   ]
  },
  {
   "cell_type": "code",
   "execution_count": 28,
   "metadata": {},
   "outputs": [
    {
     "name": "stdout",
     "output_type": "stream",
     "text": [
      "torch.Size([4, 8])\n",
      "torch.Size([4, 8])\n"
     ]
    }
   ],
   "source": [
    "torch.manual_seed(1337)\n",
    "batch_size = 4\n",
    "block_size = 8\n",
    "\n",
    "n = int(0.9*len(data))\n",
    "train_data = data[:n]\n",
    "val_data = data[n:]\n",
    "\n",
    "def get_batch(split):\n",
    "    data = train_data if split == 'train' else val_data\n",
    "    ix = torch.randint(len(data) - block_size, (batch_size,))\n",
    "    x = torch.stack([data[i:i+block_size] for i in ix])\n",
    "    y = torch.stack([data[i+1:i+block_size+1] for i in ix])\n",
    "    return x, y\n",
    "\n",
    "xb, yb = get_batch('train')\n",
    "print(xb.shape)\n",
    "print(yb.shape)\n",
    "\n"
   ]
  },
  {
   "cell_type": "code",
   "execution_count": 34,
   "metadata": {},
   "outputs": [
    {
     "name": "stdout",
     "output_type": "stream",
     "text": [
      "torch.Size([32, 83]) 4.765726089477539\n",
      "\n",
      ")Ажгњ–м.!џецљупјзТШнктжо’пљтê3Хочдсњ)“х3јцх:бЧ?Е–пг)—(јђЊКФЛЏЋЛЧ:ЉБЗЉгрЕитђнЦ.Х.дш̓'-„МзвЕпђБђиИеаГМ\n"
     ]
    }
   ],
   "source": [
    "class BigramLanguageModel(nn.Module):\n",
    "\n",
    "    def __init__(self, vocab_size):\n",
    "        super().__init__()\n",
    "        self.token_embedding_table = nn.Embedding(vocab_size, vocab_size)\n",
    "\n",
    "    def forward(self, idx, targets=None):\n",
    "        logits = self.token_embedding_table(idx)\n",
    "\n",
    "        if targets is None:\n",
    "            loss = None\n",
    "        else:\n",
    "            logits = logits.view(-1, logits.shape[-1])\n",
    "            targets = targets.view(-1)\n",
    "            loss = F.cross_entropy(logits, targets)\n",
    "        return logits, loss\n",
    "    \n",
    "    def generate(self, idx, max_new_tokens):\n",
    "        # idx is (B, T) array of indices in the current context \n",
    "        for _ in range(max_new_tokens):\n",
    "            logits, _ = self(idx)\n",
    "            # logits is (B, T, vocab_size)\n",
    "            logits = logits[:, -1, :] # note: using list [-1] to preserve the time dim\n",
    "            # logits is (B, vocab_size)\n",
    "            probs = F.softmax(logits, dim=-1)\n",
    "            # probs is (B, vocab_size)\n",
    "            idx_next = torch.multinomial(probs, num_samples=1)\n",
    "            # idx_next is (B, 1)\n",
    "            idx = torch.cat((idx, idx_next), dim=-1)\n",
    "        return idx\n",
    "\n",
    "m = BigramLanguageModel(vocabulary_size)\n",
    "out, loss = m(xb, yb)\n",
    "print(out.shape, loss.item())\n",
    "\n",
    "idx = torch.zeros((1, 1), dtype=torch.long)\n",
    "print(decode(m.generate(idx, max_new_tokens=100)[0].tolist()))\n"
   ]
  },
  {
   "cell_type": "code",
   "execution_count": 35,
   "metadata": {},
   "outputs": [],
   "source": [
    "optimizer = optim.AdamW(m.parameters(), lr=1e-3)\n"
   ]
  },
  {
   "cell_type": "code",
   "execution_count": 36,
   "metadata": {},
   "outputs": [
    {
     "name": "stdout",
     "output_type": "stream",
     "text": [
      "2.4820172786712646\n"
     ]
    }
   ],
   "source": [
    "batch_size = 32\n",
    "\n",
    "for steps in range(10000):\n",
    "    xb, yb = get_batch('train')\n",
    "    logits, loss = m(xb, yb)\n",
    "    optimizer.zero_grad(set_to_none=True)\n",
    "    loss.backward()\n",
    "    optimizer.step()\n",
    "\n",
    "print(loss.item())\n"
   ]
  },
  {
   "cell_type": "code",
   "execution_count": 37,
   "metadata": {},
   "outputs": [
    {
     "name": "stdout",
     "output_type": "stream",
     "text": [
      "\n",
      "Ниј,ију:\n",
      "пра де са оно ћетаре,\n",
      "ше г’Џџи два,\n",
      "ГЉчесогије:\n",
      ",\n",
      "по тпрт ка!\n",
      "„Утад вела,\n",
      "Коседатану;\n",
      "такња\n"
     ]
    }
   ],
   "source": [
    "idx = torch.zeros((1, 1), dtype=torch.long)\n",
    "print(decode(m.generate(idx, max_new_tokens=100)[0].tolist()))"
   ]
  },
  {
   "cell_type": "code",
   "execution_count": null,
   "metadata": {},
   "outputs": [],
   "source": []
  },
  {
   "cell_type": "markdown",
   "metadata": {},
   "source": []
  }
 ],
 "metadata": {
  "kernelspec": {
   "display_name": "torch",
   "language": "python",
   "name": "python3"
  },
  "language_info": {
   "codemirror_mode": {
    "name": "ipython",
    "version": 3
   },
   "file_extension": ".py",
   "mimetype": "text/x-python",
   "name": "python",
   "nbconvert_exporter": "python",
   "pygments_lexer": "ipython3",
   "version": "3.11.10"
  }
 },
 "nbformat": 4,
 "nbformat_minor": 2
}
